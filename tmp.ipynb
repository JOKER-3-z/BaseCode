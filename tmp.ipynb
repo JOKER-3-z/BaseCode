{
 "cells": [
  {
   "cell_type": "code",
   "execution_count": 5,
   "metadata": {},
   "outputs": [
    {
     "name": "stderr",
     "output_type": "stream",
     "text": [
      "/opt/miniconda3/envs/ZY/lib/python3.9/site-packages/torchvision/models/_utils.py:208: UserWarning: The parameter 'pretrained' is deprecated since 0.13 and may be removed in the future, please use 'weights' instead.\n",
      "  warnings.warn(\n",
      "/opt/miniconda3/envs/ZY/lib/python3.9/site-packages/torchvision/models/_utils.py:223: UserWarning: Arguments other than a weight enum or `None` for 'weights' are deprecated since 0.13 and may be removed in the future. The current behavior is equivalent to passing `weights=ResNet18_Weights.IMAGENET1K_V1`. You can also use `weights=ResNet18_Weights.DEFAULT` to get the most up-to-date weights.\n",
      "  warnings.warn(msg)\n"
     ]
    },
    {
     "name": "stdout",
     "output_type": "stream",
     "text": [
      "torch.Size([10, 512, 7, 7])\n"
     ]
    }
   ],
   "source": [
    "import torch\n",
    "from model.resnet18 import Resnet18 \n",
    "input=torch.randn((10,3,224,224))\n",
    "model=Resnet18(num_class=7,pretrained=True)\n",
    "out=model(input)"
   ]
  },
  {
   "cell_type": "code",
   "execution_count": 6,
   "metadata": {},
   "outputs": [
    {
     "data": {
      "text/plain": [
       "tensor([[0.4751, 0.3926, 0.4917, 0.4452, 0.4995, 0.5932, 0.3679],\n",
       "        [0.5209, 0.4403, 0.5285, 0.4177, 0.5069, 0.5746, 0.4122],\n",
       "        [0.4631, 0.4446, 0.5027, 0.3898, 0.5445, 0.5908, 0.4793],\n",
       "        [0.5038, 0.3382, 0.4655, 0.4359, 0.5299, 0.5802, 0.4211],\n",
       "        [0.5058, 0.4957, 0.4256, 0.4258, 0.5384, 0.5721, 0.4098],\n",
       "        [0.5338, 0.4017, 0.5962, 0.4447, 0.5380, 0.6420, 0.3495],\n",
       "        [0.5101, 0.4023, 0.5396, 0.3590, 0.4864, 0.6094, 0.4041],\n",
       "        [0.4667, 0.3804, 0.4819, 0.4070, 0.5060, 0.5834, 0.3792],\n",
       "        [0.5348, 0.4276, 0.5361, 0.4019, 0.5322, 0.5872, 0.3724],\n",
       "        [0.5733, 0.3534, 0.4364, 0.3815, 0.5902, 0.5170, 0.4461]],\n",
       "       grad_fn=<SigmoidBackward0>)"
      ]
     },
     "execution_count": 6,
     "metadata": {},
     "output_type": "execute_result"
    }
   ],
   "source": [
    "import torchvision.transforms as transforms\n",
    "transforms.Compose([\n",
    "    transforms.RandomRotation(90),\n",
    "    transforms.Resize((256,256)),\n",
    "    transforms.RandomCrop(224),\n",
    "    transforms.RandomHorizontalFlip(),\n",
    "    transforms.ToTensor(),\n",
    "    transforms.Normalize(mean=[0.485, 0.456, 0.406],\n",
    "                                 std=[0.229, 0.224, 0.225]),\n",
    "    transforms.RandomErasing(scale=(0.02,0.25)),\n",
    "])"
   ]
  },
  {
   "cell_type": "markdown",
   "metadata": {},
   "source": []
  }
 ],
 "metadata": {
  "kernelspec": {
   "display_name": "ZY",
   "language": "python",
   "name": "python3"
  },
  "language_info": {
   "codemirror_mode": {
    "name": "ipython",
    "version": 3
   },
   "file_extension": ".py",
   "mimetype": "text/x-python",
   "name": "python",
   "nbconvert_exporter": "python",
   "pygments_lexer": "ipython3",
   "version": "3.9.16"
  },
  "orig_nbformat": 4
 },
 "nbformat": 4,
 "nbformat_minor": 2
}
